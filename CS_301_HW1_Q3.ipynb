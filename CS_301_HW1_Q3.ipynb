{
  "nbformat": 4,
  "nbformat_minor": 0,
  "metadata": {
    "colab": {
      "provenance": [],
      "authorship_tag": "ABX9TyMN6h3A09B/0FuZ9k5iaWFF",
      "include_colab_link": true
    },
    "kernelspec": {
      "name": "python3",
      "display_name": "Python 3"
    },
    "language_info": {
      "name": "python"
    }
  },
  "cells": [
    {
      "cell_type": "markdown",
      "metadata": {
        "id": "view-in-github",
        "colab_type": "text"
      },
      "source": [
        "<a href=\"https://colab.research.google.com/github/tanvirA25/CS-301/blob/main/CS_301_HW1_Q3.ipynb\" target=\"_parent\"><img src=\"https://colab.research.google.com/assets/colab-badge.svg\" alt=\"Open In Colab\"/></a>"
      ]
    },
    {
      "cell_type": "code",
      "execution_count": 125,
      "metadata": {
        "colab": {
          "base_uri": "https://localhost:8080/"
        },
        "id": "d58K55aGOmgm",
        "outputId": "4b76ef6f-277b-413a-97fc-d54d010c6214"
      },
      "outputs": [
        {
          "output_type": "stream",
          "name": "stdout",
          "text": [
            "Number of Heads[0, 2, 10, 26, 298]\n"
          ]
        }
      ],
      "source": [
        "import numpy as np\n",
        "import matplotlib.pyplot as plt\n",
        "\n",
        "#1\n",
        "def event(n,prob_ty):    \n",
        "    Outcome = np.random.binomial(n,prob_ty)    \n",
        "    return Outcome\n",
        "Prob_ty = 0.6\n",
        "Trials = [0,5,15,50,500]\n",
        "\n",
        "result = []\n",
        "\n",
        "for i in Trials:\n",
        "    Outcome = event(i,Prob_ty)    \n",
        "    result.append(Outcome)\n",
        "\n",
        "print(\"Number of Heads\"+ str(result))"
      ]
    },
    {
      "cell_type": "code",
      "source": [
        " #2 \n",
        "per = []\n",
        "for i in range(5):\n",
        "  if result[i] !=0:\n",
        "   per.append(float(result[i] / Trials[i]))\n",
        "  else:\n",
        "    per.append(0)\n",
        "\n",
        "plt.plot(Trials, per)\n",
        "plt.xlabel(\"Number of Trial\")\n",
        "plt.ylabel(\"Proability of Occuerence\")"
      ],
      "metadata": {
        "colab": {
          "base_uri": "https://localhost:8080/",
          "height": 300
        },
        "id": "JcgyYZTbpKqi",
        "outputId": "299314f4-3f19-4014-ce83-cc6303a1c27b"
      },
      "execution_count": 128,
      "outputs": [
        {
          "output_type": "execute_result",
          "data": {
            "text/plain": [
              "Text(0, 0.5, 'Proability of Occuerence')"
            ]
          },
          "metadata": {},
          "execution_count": 128
        },
        {
          "output_type": "display_data",
          "data": {
            "text/plain": [
              "<Figure size 432x288 with 1 Axes>"
            ],
            "image/png": "[encoded data removed]"
          },
          "metadata": {
            "needs_background": "light"
          }
        }
      ]
    },
    {
      "cell_type": "code",
      "source": [
        "#3\n",
        "var = []\n",
        "for i in range(5):\n",
        "\n",
        "  if (Trials[i]!=0):\n",
        "    var.append(0.6*(1-0.6)/Trials[i])\n",
        "  else:\n",
        "    var.append(0)\n",
        "\n",
        "for i in range(5):\n",
        " print(\"Variance for \"+ str(Trials[i])+ \" is \" +str(var[i]))\n",
        "        \n",
        "\"\"\"\n",
        "The value of variance decreases as the number of trial increases.\n",
        "\"\"\"        "
      ],
      "metadata": {
        "colab": {
          "base_uri": "https://localhost:8080/",
          "height": 122
        },
        "id": "olQ_H___RpKz",
        "outputId": "4e1106e6-ddc7-47ad-cb3f-c6d7b8fd2399"
      },
      "execution_count": 131,
      "outputs": [
        {
          "output_type": "stream",
          "name": "stdout",
          "text": [
            "Variance for 0 is 0\n",
            "Variance for 5 is 0.048\n",
            "Variance for 15 is 0.016\n",
            "Variance for 50 is 0.0048\n",
            "Variance for 500 is 0.00047999999999999996\n"
          ]
        },
        {
          "output_type": "execute_result",
          "data": {
            "text/plain": [
              "'\\nThe value of variance decreases as the number of trual increases.\\n'"
            ],
            "application/vnd.google.colaboratory.intrinsic+json": {
              "type": "string"
            }
          },
          "metadata": {},
          "execution_count": 131
        }
      ]
    }
  ]
}